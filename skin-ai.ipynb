{
 "cells": [
  {
   "cell_type": "code",
   "execution_count": 1,
   "metadata": {},
   "outputs": [],
   "source": [
    "import os\n",
    "import numpy as np\n",
    "from sklearn.model_selection import train_test_split\n",
    "import tensorflow as tf"
   ]
  },
  {
   "cell_type": "code",
   "execution_count": 105,
   "metadata": {},
   "outputs": [],
   "source": [
    "classes = [\n",
    "    'blackheads',\n",
    "    'inflamed_acne',\n",
    "    'large_pimples'\n",
    "] \n",
    "train_dir = \"./data2/train/\"\n",
    "valid_dir = \"./data2/valid/\"\n",
    "test_dir = \"./data2/test/\""
   ]
  },
  {
   "cell_type": "code",
   "execution_count": 97,
   "metadata": {},
   "outputs": [],
   "source": [
    "def read_annotations(annotation_file, num):\n",
    "    image_paths = []\n",
    "    combined_labels = []\n",
    "    with open(annotation_file, 'r') as file:\n",
    "        for line in file:\n",
    "            parts = line.strip().split(' ')\n",
    "            if num == 0:\n",
    "                image_paths.append(valid_dir + parts[0])# Full image path\n",
    "            else:\n",
    "                image_paths.append(train_dir + parts[0])# Full image path\n",
    "            # Format: [x_min, y_min, x_max, y_max, class_label]\n",
    "            combined_labels.append(list(map(int, parts[1].split(','))))\n",
    "    return image_paths, combined_labels\n"
   ]
  },
  {
   "cell_type": "code",
   "execution_count": 98,
   "metadata": {},
   "outputs": [],
   "source": [
    "def preprocess_image(image_path):\n",
    "    image = tf.keras.preprocessing.image.load_img(image_path, target_size=(224, 224))\n",
    "    image = tf.keras.preprocessing.image.img_to_array(image)\n",
    "    # Normalize pixel values to range [0, 1]\n",
    "    image /= 255.0\n",
    "    return image"
   ]
  },
  {
   "cell_type": "code",
   "execution_count": 99,
   "metadata": {},
   "outputs": [],
   "source": [
    "train_image_paths, train_combined_labels = read_annotations(\"data2/train/_annotations.txt\", 1)\n",
    "valid_image_paths, valid_combined_labels = read_annotations(\"data2/valid/_annotations.txt\", 0)"
   ]
  },
  {
   "cell_type": "code",
   "execution_count": 100,
   "metadata": {},
   "outputs": [],
   "source": [
    "X_train = np.array([preprocess_image(image_path) for image_path in train_image_paths])\n",
    "X_valid = np.array([preprocess_image(image_path) for image_path in valid_image_paths])\n",
    "y_train = np.array(train_combined_labels)\n",
    "y_valid = np.array(valid_combined_labels)"
   ]
  },
  {
   "cell_type": "code",
   "execution_count": 101,
   "metadata": {},
   "outputs": [
    {
     "name": "stderr",
     "output_type": "stream",
     "text": [
      "c:\\Users\\gs2me\\OneDrive\\Desktop\\Projects\\burn-scan-ai\\venv\\lib\\site-packages\\keras\\src\\layers\\convolutional\\base_conv.py:99: UserWarning: Do not pass an `input_shape`/`input_dim` argument to a layer. When using Sequential models, prefer using an `Input(shape)` object as the first layer in the model instead.\n",
      "  super().__init__(\n"
     ]
    }
   ],
   "source": [
    "model = tf.keras.Sequential([\n",
    "    tf.keras.layers.Conv2D(32, (3, 3), activation='relu', input_shape=(224, 224, 3)),\n",
    "    tf.keras.layers.MaxPooling2D((2, 2)),\n",
    "    tf.keras.layers.Conv2D(64, (3, 3), activation='relu'),\n",
    "    tf.keras.layers.MaxPooling2D((2, 2)),\n",
    "    tf.keras.layers.Conv2D(128, (3, 3), activation='relu'),\n",
    "    tf.keras.layers.MaxPooling2D((2, 2)),\n",
    "    tf.keras.layers.Conv2D(128, (3, 3), activation='relu'),\n",
    "    tf.keras.layers.MaxPooling2D((2, 2)),\n",
    "    tf.keras.layers.Flatten(),\n",
    "    tf.keras.layers.Dense(512, activation='relu'),\n",
    "    tf.keras.layers.Dense(5)  # Output layer with 5 units for class label and bounding box coordinates\n",
    "])"
   ]
  },
  {
   "cell_type": "code",
   "execution_count": 102,
   "metadata": {},
   "outputs": [],
   "source": [
    "model.compile(optimizer='adam', loss='mse', metrics=['accuracy'])"
   ]
  },
  {
   "cell_type": "code",
   "execution_count": 113,
   "metadata": {},
   "outputs": [
    {
     "name": "stdout",
     "output_type": "stream",
     "text": [
      "\u001b[1m5/5\u001b[0m \u001b[32m━━━━━━━━━━━━━━━━━━━━\u001b[0m\u001b[37m\u001b[0m \u001b[1m2s\u001b[0m 349ms/step - accuracy: 0.6466 - loss: 8899.6250 - val_accuracy: 0.7073 - val_loss: 9430.1484\n"
     ]
    },
    {
     "data": {
      "text/plain": [
       "<keras.src.callbacks.history.History at 0x24dbb7060e0>"
      ]
     },
     "execution_count": 113,
     "metadata": {},
     "output_type": "execute_result"
    }
   ],
   "source": [
    "model.fit(X_train, y_train, epochs=1, validation_data=(X_valid, y_valid))\n"
   ]
  },
  {
   "cell_type": "code",
   "execution_count": 114,
   "metadata": {},
   "outputs": [
    {
     "name": "stdout",
     "output_type": "stream",
     "text": [
      "\u001b[1m1/1\u001b[0m \u001b[32m━━━━━━━━━━━━━━━━━━━━\u001b[0m\u001b[37m\u001b[0m \u001b[1m0s\u001b[0m 92ms/step - accuracy: 0.5000 - loss: 10119.9492\n",
      "Test Loss: 10119.94921875\n",
      "Test Accuracy: 0.5\n"
     ]
    }
   ],
   "source": [
    "def read_test_annotations(annotation_file):\n",
    "    image_paths = []\n",
    "    combined_labels = []\n",
    "    with open(annotation_file, 'r') as file:\n",
    "        for line in file:\n",
    "            parts = line.strip().split(\" \")\n",
    "            image_paths.append(os.path.join(test_dir, parts[0]))  # Full image path\n",
    "            # Format: [x_min, y_min, x_max, y_max, class_label]\n",
    "            combined_labels.append(list(map(int, parts[1].split(','))))\n",
    "    return image_paths, combined_labels\n",
    "\n",
    "# Read test annotations\n",
    "test_annotation_file = os.path.join(test_dir, \"_annotations.txt\")\n",
    "test_image_paths, test_combined_labels = read_test_annotations(test_annotation_file)\n",
    "\n",
    "# Preprocess test images\n",
    "X_test = np.array([preprocess_image(image_path) for image_path in test_image_paths])\n",
    "y_test = np.array(test_combined_labels)\n",
    "\n",
    "# Evaluate the model on test data\n",
    "test_loss, test_accuracy = model.evaluate(X_test, y_test)\n",
    "\n",
    "print(\"Test Loss:\", test_loss)\n",
    "print(\"Test Accuracy:\", test_accuracy)"
   ]
  },
  {
   "cell_type": "code",
   "execution_count": 117,
   "metadata": {},
   "outputs": [],
   "source": [
    "model.save(\"model.keras\")\n"
   ]
  }
 ],
 "metadata": {
  "kernelspec": {
   "display_name": "venv",
   "language": "python",
   "name": "python3"
  },
  "language_info": {
   "codemirror_mode": {
    "name": "ipython",
    "version": 3
   },
   "file_extension": ".py",
   "mimetype": "text/x-python",
   "name": "python",
   "nbconvert_exporter": "python",
   "pygments_lexer": "ipython3",
   "version": "3.10.5"
  }
 },
 "nbformat": 4,
 "nbformat_minor": 2
}
